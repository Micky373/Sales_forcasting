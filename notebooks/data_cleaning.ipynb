{
 "cells": [
  {
   "cell_type": "code",
   "execution_count": 2,
   "metadata": {},
   "outputs": [],
   "source": [
    "# Importing the libraries\n",
    "\n",
    "import pandas as pd\n",
    "import numpy as np\n",
    "import warnings\n",
    "import sys\n",
    "sys.path.append(\"..\")\n",
    "warnings.filterwarnings('ignore')"
   ]
  },
  {
   "cell_type": "code",
   "execution_count": 4,
   "metadata": {},
   "outputs": [],
   "source": [
    "# Read the datasets\n",
    "\n",
    "sample_data = pd.read_csv('../data/sample_submission.csv')\n",
    "store_data = pd.read_csv('../data/store.csv')\n",
    "test_data = pd.read_csv('../data/test.csv')\n",
    "train_data = pd.read_csv('../data/train.csv')"
   ]
  },
  {
   "cell_type": "code",
   "execution_count": 14,
   "metadata": {},
   "outputs": [
    {
     "name": "stdout",
     "output_type": "stream",
     "text": [
      "The sample data has:['Id', 'Sales'] columns and , (41088, 2) shape\n"
     ]
    }
   ],
   "source": [
    "# Finding out the shape and columns of sample dataset\n",
    "\n",
    "print(f'The sample data has:{sample_data.columns.tolist()} columns and , {sample_data.shape} shape')"
   ]
  },
  {
   "cell_type": "code",
   "execution_count": 16,
   "metadata": {},
   "outputs": [
    {
     "name": "stdout",
     "output_type": "stream",
     "text": [
      "The store data has:['Store', 'StoreType', 'Assortment', 'CompetitionDistance', 'CompetitionOpenSinceMonth', 'CompetitionOpenSinceYear', 'Promo2', 'Promo2SinceWeek', 'Promo2SinceYear', 'PromoInterval'] columns and , (1115, 10) shape\n"
     ]
    }
   ],
   "source": [
    "# Finding out the shape and columns of store dataset\n",
    "\n",
    "print(f'The store data has:{store_data.columns.tolist()} columns and , {store_data.shape} shape')"
   ]
  },
  {
   "cell_type": "code",
   "execution_count": 17,
   "metadata": {},
   "outputs": [
    {
     "name": "stdout",
     "output_type": "stream",
     "text": [
      "The test data has:['Id', 'Store', 'DayOfWeek', 'Date', 'Open', 'Promo', 'StateHoliday', 'SchoolHoliday'] columns and \n",
      ", (41088, 8) shape\n"
     ]
    }
   ],
   "source": [
    "# Finding out the shape and columns of test dataset\n",
    "\n",
    "print(f'The test data has:{test_data.columns.tolist()} columns and \\n, {test_data.shape} shape')"
   ]
  },
  {
   "cell_type": "code",
   "execution_count": 19,
   "metadata": {},
   "outputs": [
    {
     "name": "stdout",
     "output_type": "stream",
     "text": [
      "The train data has:['Store', 'DayOfWeek', 'Date', 'Sales', 'Customers', 'Open', 'Promo', 'StateHoliday', 'SchoolHoliday'] columns and \n",
      ", (1017209, 9) shape\n"
     ]
    }
   ],
   "source": [
    "# Finding out the shape and columns of train dataset\n",
    "\n",
    "print(f'The train data has:{train_data.columns.tolist()} columns and \\n, {train_data.shape} shape')"
   ]
  },
  {
   "cell_type": "code",
   "execution_count": 21,
   "metadata": {},
   "outputs": [
    {
     "data": {
      "text/plain": [
       "Store                          0\n",
       "StoreType                      0\n",
       "Assortment                     0\n",
       "CompetitionDistance            3\n",
       "CompetitionOpenSinceMonth    354\n",
       "CompetitionOpenSinceYear     354\n",
       "Promo2                         0\n",
       "Promo2SinceWeek              544\n",
       "Promo2SinceYear              544\n",
       "PromoInterval                544\n",
       "dtype: int64"
      ]
     },
     "execution_count": 21,
     "metadata": {},
     "output_type": "execute_result"
    }
   ],
   "source": [
    "# Finding out the missing values in store data\n",
    "\n",
    "store_data.isna().sum()"
   ]
  },
  {
   "cell_type": "code",
   "execution_count": 36,
   "metadata": {},
   "outputs": [
    {
     "data": {
      "text/plain": [
       "Id       0\n",
       "Sales    0\n",
       "dtype: int64"
      ]
     },
     "execution_count": 36,
     "metadata": {},
     "output_type": "execute_result"
    }
   ],
   "source": [
    "# Finding number of missing values in the sample data\n",
    "\n",
    "sample_data.isna().sum()"
   ]
  },
  {
   "cell_type": "code",
   "execution_count": 37,
   "metadata": {},
   "outputs": [
    {
     "data": {
      "text/plain": [
       "Id                0\n",
       "Store             0\n",
       "DayOfWeek         0\n",
       "Date              0\n",
       "Open             11\n",
       "Promo             0\n",
       "StateHoliday      0\n",
       "SchoolHoliday     0\n",
       "dtype: int64"
      ]
     },
     "execution_count": 37,
     "metadata": {},
     "output_type": "execute_result"
    }
   ],
   "source": [
    "# Finding number of missing values in the test data\n",
    "\n",
    "test_data.isna().sum()"
   ]
  },
  {
   "cell_type": "code",
   "execution_count": 67,
   "metadata": {},
   "outputs": [
    {
     "data": {
      "text/plain": [
       "Store            0\n",
       "DayOfWeek        0\n",
       "Date             0\n",
       "Sales            0\n",
       "Customers        0\n",
       "Open             0\n",
       "Promo            0\n",
       "StateHoliday     0\n",
       "SchoolHoliday    0\n",
       "dtype: int64"
      ]
     },
     "execution_count": 67,
     "metadata": {},
     "output_type": "execute_result"
    }
   ],
   "source": [
    "# Finding number of missing values in the train data\n",
    "\n",
    "train_data.isna().sum()"
   ]
  },
  {
   "cell_type": "code",
   "execution_count": 44,
   "metadata": {},
   "outputs": [],
   "source": [
    "# Fixing missing values of store data by 0 and NA\n",
    "\n",
    "store_data['CompetitionDistance'] = store_data['CompetitionDistance'].fillna(0)\n",
    "store_data['CompetitionOpenSinceYear'] = store_data['CompetitionOpenSinceYear'].fillna('NA')\n",
    "store_data['CompetitionOpenSinceMonth'] = store_data['CompetitionOpenSinceMonth'].fillna('NA')\n",
    "store_data['PromoInterval'] = store_data['PromoInterval'].fillna('NA')\n",
    "store_data['Promo2SinceYear'] = store_data['Promo2SinceYear'].fillna('NA')\n",
    "store_data['Promo2SinceWeek'] = store_data['Promo2SinceWeek'].fillna('NA')"
   ]
  },
  {
   "cell_type": "code",
   "execution_count": 46,
   "metadata": {},
   "outputs": [
    {
     "data": {
      "text/plain": [
       "Store                        0\n",
       "StoreType                    0\n",
       "Assortment                   0\n",
       "CompetitionDistance          0\n",
       "CompetitionOpenSinceMonth    0\n",
       "CompetitionOpenSinceYear     0\n",
       "Promo2                       0\n",
       "Promo2SinceWeek              0\n",
       "Promo2SinceYear              0\n",
       "PromoInterval                0\n",
       "dtype: int64"
      ]
     },
     "execution_count": 46,
     "metadata": {},
     "output_type": "execute_result"
    }
   ],
   "source": [
    "# Ensuring there is no missing value\n",
    "\n",
    "store_data.isna().sum()"
   ]
  },
  {
   "cell_type": "code",
   "execution_count": 51,
   "metadata": {},
   "outputs": [],
   "source": [
    "# Fixing the missing values in the test data by making all the 3 missing values 0\n",
    "\n",
    "test_data['Open'] = test_data['Open'].fillna(0)\n"
   ]
  },
  {
   "cell_type": "code",
   "execution_count": 52,
   "metadata": {},
   "outputs": [
    {
     "data": {
      "text/plain": [
       "Id               0\n",
       "Store            0\n",
       "DayOfWeek        0\n",
       "Date             0\n",
       "Open             0\n",
       "Promo            0\n",
       "StateHoliday     0\n",
       "SchoolHoliday    0\n",
       "dtype: int64"
      ]
     },
     "execution_count": 52,
     "metadata": {},
     "output_type": "execute_result"
    }
   ],
   "source": [
    "# Ensuring there is no missing value in the test data\n",
    "\n",
    "test_data.isna().sum()"
   ]
  },
  {
   "cell_type": "code",
   "execution_count": 85,
   "metadata": {},
   "outputs": [
    {
     "data": {
      "text/plain": [
       "(Index(['Store', 'DayOfWeek', 'Date', 'Sales', 'Customers', 'Open', 'Promo',\n",
       "        'StateHoliday', 'SchoolHoliday', 'StoreType', 'Assortment',\n",
       "        'CompetitionDistance', 'CompetitionOpenSinceMonth',\n",
       "        'CompetitionOpenSinceYear', 'Promo2', 'Promo2SinceWeek',\n",
       "        'Promo2SinceYear', 'PromoInterval'],\n",
       "       dtype='object'),\n",
       " Index(['Id', 'Store', 'DayOfWeek', 'Date', 'Open', 'Promo', 'StateHoliday',\n",
       "        'SchoolHoliday', 'StoreType', 'Assortment', 'CompetitionDistance',\n",
       "        'CompetitionOpenSinceMonth', 'CompetitionOpenSinceYear', 'Promo2',\n",
       "        'Promo2SinceWeek', 'Promo2SinceYear', 'PromoInterval'],\n",
       "       dtype='object'))"
      ]
     },
     "execution_count": 85,
     "metadata": {},
     "output_type": "execute_result"
    }
   ],
   "source": [
    "# Merging the datasets\n",
    "\n",
    "train_store = pd.merge(train_data, store_data, how = 'left', on = \"Store\")\n",
    "test_store = pd.merge(test_data, store_data, how = 'left', on = \"Store\")\n",
    "train_store.columns , test_store.columns"
   ]
  }
 ],
 "metadata": {
  "interpreter": {
   "hash": "d6f8b5314fcad74b5cea59779b57d0410b1657d926ed740031cc86c5ef67808c"
  },
  "kernelspec": {
   "display_name": "Python 3.9.12 ('week3')",
   "language": "python",
   "name": "python3"
  },
  "language_info": {
   "codemirror_mode": {
    "name": "ipython",
    "version": 3
   },
   "file_extension": ".py",
   "mimetype": "text/x-python",
   "name": "python",
   "nbconvert_exporter": "python",
   "pygments_lexer": "ipython3",
   "version": "3.9.12"
  },
  "orig_nbformat": 4
 },
 "nbformat": 4,
 "nbformat_minor": 2
}
