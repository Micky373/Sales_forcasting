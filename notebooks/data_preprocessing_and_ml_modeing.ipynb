{
 "cells": [
  {
   "cell_type": "code",
   "execution_count": 1,
   "metadata": {},
   "outputs": [],
   "source": [
    "# Importing the libraries\n",
    "\n",
    "import pandas as pd\n",
    "import numpy as np\n",
    "import warnings\n",
    "import matplotlib.pyplot as plt\n",
    "import seaborn as sns\n",
    "from datetime import datetime\n",
    "import pickle\n",
    "from mlflow import log_metric, log_param, log_artifacts\n",
    "import mlflow.sklearn\n",
    "\n",
    "import sys\n",
    "sys.path.append(\"..\")\n",
    "warnings.filterwarnings('ignore')\n",
    "from sklearn.pipeline import Pipeline\n",
    "from sklearn.preprocessing import FunctionTransformer\n",
    "from sklearn.ensemble import RandomForestRegressor"
   ]
  },
  {
   "cell_type": "code",
   "execution_count": 2,
   "metadata": {},
   "outputs": [],
   "source": [
    "# Importing some scripts\n",
    "\n",
    "from scripts.data_vizualization import Data_Viz \n",
    "from scripts.data_cleaning import DataCleaner\n",
    "from scripts.data_transformation import DataTransformer\n",
    "\n",
    "DC = DataCleaner()\n",
    "DV = Data_Viz()\n",
    "DT = DataTransformer()"
   ]
  },
  {
   "cell_type": "code",
   "execution_count": 3,
   "metadata": {},
   "outputs": [
    {
     "data": {
      "text/html": [
       "<div>\n",
       "<style scoped>\n",
       "    .dataframe tbody tr th:only-of-type {\n",
       "        vertical-align: middle;\n",
       "    }\n",
       "\n",
       "    .dataframe tbody tr th {\n",
       "        vertical-align: top;\n",
       "    }\n",
       "\n",
       "    .dataframe thead th {\n",
       "        text-align: right;\n",
       "    }\n",
       "</style>\n",
       "<table border=\"1\" class=\"dataframe\">\n",
       "  <thead>\n",
       "    <tr style=\"text-align: right;\">\n",
       "      <th></th>\n",
       "      <th>variables</th>\n",
       "      <th>missing_count</th>\n",
       "      <th>missing_percent_(%)</th>\n",
       "      <th>data_type</th>\n",
       "      <th>unique_values</th>\n",
       "    </tr>\n",
       "  </thead>\n",
       "  <tbody>\n",
       "    <tr>\n",
       "      <th>0</th>\n",
       "      <td>Store</td>\n",
       "      <td>0</td>\n",
       "      <td>0.0</td>\n",
       "      <td>int64</td>\n",
       "      <td>1115</td>\n",
       "    </tr>\n",
       "    <tr>\n",
       "      <th>1</th>\n",
       "      <td>DayOfWeek</td>\n",
       "      <td>0</td>\n",
       "      <td>0.0</td>\n",
       "      <td>int64</td>\n",
       "      <td>7</td>\n",
       "    </tr>\n",
       "    <tr>\n",
       "      <th>2</th>\n",
       "      <td>Sales</td>\n",
       "      <td>0</td>\n",
       "      <td>0.0</td>\n",
       "      <td>float64</td>\n",
       "      <td>13194</td>\n",
       "    </tr>\n",
       "    <tr>\n",
       "      <th>3</th>\n",
       "      <td>Customers</td>\n",
       "      <td>0</td>\n",
       "      <td>0.0</td>\n",
       "      <td>float64</td>\n",
       "      <td>1423</td>\n",
       "    </tr>\n",
       "    <tr>\n",
       "      <th>4</th>\n",
       "      <td>Open</td>\n",
       "      <td>0</td>\n",
       "      <td>0.0</td>\n",
       "      <td>int64</td>\n",
       "      <td>2</td>\n",
       "    </tr>\n",
       "    <tr>\n",
       "      <th>5</th>\n",
       "      <td>Promo</td>\n",
       "      <td>0</td>\n",
       "      <td>0.0</td>\n",
       "      <td>int64</td>\n",
       "      <td>2</td>\n",
       "    </tr>\n",
       "    <tr>\n",
       "      <th>6</th>\n",
       "      <td>StateHoliday</td>\n",
       "      <td>0</td>\n",
       "      <td>0.0</td>\n",
       "      <td>object</td>\n",
       "      <td>4</td>\n",
       "    </tr>\n",
       "    <tr>\n",
       "      <th>7</th>\n",
       "      <td>SchoolHoliday</td>\n",
       "      <td>0</td>\n",
       "      <td>0.0</td>\n",
       "      <td>int64</td>\n",
       "      <td>2</td>\n",
       "    </tr>\n",
       "    <tr>\n",
       "      <th>8</th>\n",
       "      <td>StoreType</td>\n",
       "      <td>0</td>\n",
       "      <td>0.0</td>\n",
       "      <td>object</td>\n",
       "      <td>4</td>\n",
       "    </tr>\n",
       "    <tr>\n",
       "      <th>9</th>\n",
       "      <td>Assortment</td>\n",
       "      <td>0</td>\n",
       "      <td>0.0</td>\n",
       "      <td>object</td>\n",
       "      <td>3</td>\n",
       "    </tr>\n",
       "    <tr>\n",
       "      <th>10</th>\n",
       "      <td>CompetitionDistance</td>\n",
       "      <td>0</td>\n",
       "      <td>0.0</td>\n",
       "      <td>float64</td>\n",
       "      <td>655</td>\n",
       "    </tr>\n",
       "    <tr>\n",
       "      <th>11</th>\n",
       "      <td>CompetitionOpenSinceMonth</td>\n",
       "      <td>0</td>\n",
       "      <td>0.0</td>\n",
       "      <td>object</td>\n",
       "      <td>13</td>\n",
       "    </tr>\n",
       "    <tr>\n",
       "      <th>12</th>\n",
       "      <td>CompetitionOpenSinceYear</td>\n",
       "      <td>0</td>\n",
       "      <td>0.0</td>\n",
       "      <td>object</td>\n",
       "      <td>24</td>\n",
       "    </tr>\n",
       "    <tr>\n",
       "      <th>13</th>\n",
       "      <td>Promo2</td>\n",
       "      <td>0</td>\n",
       "      <td>0.0</td>\n",
       "      <td>int64</td>\n",
       "      <td>2</td>\n",
       "    </tr>\n",
       "    <tr>\n",
       "      <th>14</th>\n",
       "      <td>Promo2SinceWeek</td>\n",
       "      <td>0</td>\n",
       "      <td>0.0</td>\n",
       "      <td>object</td>\n",
       "      <td>25</td>\n",
       "    </tr>\n",
       "    <tr>\n",
       "      <th>15</th>\n",
       "      <td>Promo2SinceYear</td>\n",
       "      <td>0</td>\n",
       "      <td>0.0</td>\n",
       "      <td>object</td>\n",
       "      <td>8</td>\n",
       "    </tr>\n",
       "    <tr>\n",
       "      <th>16</th>\n",
       "      <td>PromoInterval</td>\n",
       "      <td>0</td>\n",
       "      <td>0.0</td>\n",
       "      <td>object</td>\n",
       "      <td>4</td>\n",
       "    </tr>\n",
       "    <tr>\n",
       "      <th>17</th>\n",
       "      <td>Year</td>\n",
       "      <td>0</td>\n",
       "      <td>0.0</td>\n",
       "      <td>int64</td>\n",
       "      <td>3</td>\n",
       "    </tr>\n",
       "    <tr>\n",
       "      <th>18</th>\n",
       "      <td>Month</td>\n",
       "      <td>0</td>\n",
       "      <td>0.0</td>\n",
       "      <td>int64</td>\n",
       "      <td>12</td>\n",
       "    </tr>\n",
       "    <tr>\n",
       "      <th>19</th>\n",
       "      <td>DayOfMonth</td>\n",
       "      <td>0</td>\n",
       "      <td>0.0</td>\n",
       "      <td>int64</td>\n",
       "      <td>31</td>\n",
       "    </tr>\n",
       "    <tr>\n",
       "      <th>20</th>\n",
       "      <td>Weekday</td>\n",
       "      <td>0</td>\n",
       "      <td>0.0</td>\n",
       "      <td>int64</td>\n",
       "      <td>2</td>\n",
       "    </tr>\n",
       "  </tbody>\n",
       "</table>\n",
       "</div>"
      ],
      "text/plain": [
       "                    variables  missing_count  missing_percent_(%) data_type  \\\n",
       "0                       Store              0                  0.0     int64   \n",
       "1                   DayOfWeek              0                  0.0     int64   \n",
       "2                       Sales              0                  0.0   float64   \n",
       "3                   Customers              0                  0.0   float64   \n",
       "4                        Open              0                  0.0     int64   \n",
       "5                       Promo              0                  0.0     int64   \n",
       "6                StateHoliday              0                  0.0    object   \n",
       "7               SchoolHoliday              0                  0.0     int64   \n",
       "8                   StoreType              0                  0.0    object   \n",
       "9                  Assortment              0                  0.0    object   \n",
       "10        CompetitionDistance              0                  0.0   float64   \n",
       "11  CompetitionOpenSinceMonth              0                  0.0    object   \n",
       "12   CompetitionOpenSinceYear              0                  0.0    object   \n",
       "13                     Promo2              0                  0.0     int64   \n",
       "14            Promo2SinceWeek              0                  0.0    object   \n",
       "15            Promo2SinceYear              0                  0.0    object   \n",
       "16              PromoInterval              0                  0.0    object   \n",
       "17                       Year              0                  0.0     int64   \n",
       "18                      Month              0                  0.0     int64   \n",
       "19                 DayOfMonth              0                  0.0     int64   \n",
       "20                    Weekday              0                  0.0     int64   \n",
       "\n",
       "    unique_values  \n",
       "0            1115  \n",
       "1               7  \n",
       "2           13194  \n",
       "3            1423  \n",
       "4               2  \n",
       "5               2  \n",
       "6               4  \n",
       "7               2  \n",
       "8               4  \n",
       "9               3  \n",
       "10            655  \n",
       "11             13  \n",
       "12             24  \n",
       "13              2  \n",
       "14             25  \n",
       "15              8  \n",
       "16              4  \n",
       "17              3  \n",
       "18             12  \n",
       "19             31  \n",
       "20              2  "
      ]
     },
     "execution_count": 3,
     "metadata": {},
     "output_type": "execute_result"
    }
   ],
   "source": [
    "# Importing the train data and check for outliers\n",
    "\n",
    "train = pd.read_csv('../data/train_data_clean.csv',index_col='Date')\n",
    "DV.summ_columns(train)"
   ]
  },
  {
   "cell_type": "code",
   "execution_count": 4,
   "metadata": {},
   "outputs": [],
   "source": [
    "# Creating a new column\n",
    "\n",
    "train.loc[train['DayOfMonth'] >= 20,'DayStatus'] = 'End of Month' \n",
    "train.loc[(train['DayOfMonth'] < 20) & (train['DayOfMonth'] > 10),'DayStatus'] = 'Mid of Month' \n",
    "train.loc[train['DayOfMonth'] < 10,'DayStatus'] = 'Begining of Month' "
   ]
  },
  {
   "cell_type": "code",
   "execution_count": 5,
   "metadata": {},
   "outputs": [
    {
     "data": {
      "text/plain": [
       "End of Month         380995\n",
       "Mid of Month         301365\n",
       "Begining of Month    301364\n",
       "Name: DayStatus, dtype: int64"
      ]
     },
     "execution_count": 5,
     "metadata": {},
     "output_type": "execute_result"
    }
   ],
   "source": [
    "# Finding out if the column worked as planned\n",
    "\n",
    "train['DayStatus'].value_counts()"
   ]
  },
  {
   "cell_type": "code",
   "execution_count": 6,
   "metadata": {},
   "outputs": [],
   "source": [
    "# Creating a new column for store having competator or not\n",
    "\n",
    "train.loc[train['CompetitionOpenSinceMonth'] != 'Not Available','HasCompetator'] = 1 \n",
    "train.loc[train['CompetitionOpenSinceMonth'] == 'Not Available','HasCompetator'] = 0"
   ]
  },
  {
   "cell_type": "code",
   "execution_count": 7,
   "metadata": {},
   "outputs": [
    {
     "data": {
      "text/html": [
       "<div>\n",
       "<style scoped>\n",
       "    .dataframe tbody tr th:only-of-type {\n",
       "        vertical-align: middle;\n",
       "    }\n",
       "\n",
       "    .dataframe tbody tr th {\n",
       "        vertical-align: top;\n",
       "    }\n",
       "\n",
       "    .dataframe thead th {\n",
       "        text-align: right;\n",
       "    }\n",
       "</style>\n",
       "<table border=\"1\" class=\"dataframe\">\n",
       "  <thead>\n",
       "    <tr style=\"text-align: right;\">\n",
       "      <th></th>\n",
       "      <th>Store</th>\n",
       "      <th>DayOfWeek</th>\n",
       "      <th>Sales</th>\n",
       "      <th>Customers</th>\n",
       "      <th>Open</th>\n",
       "      <th>Promo</th>\n",
       "      <th>SchoolHoliday</th>\n",
       "      <th>CompetitionDistance</th>\n",
       "      <th>Promo2</th>\n",
       "      <th>Year</th>\n",
       "      <th>Month</th>\n",
       "      <th>DayOfMonth</th>\n",
       "      <th>Weekday</th>\n",
       "      <th>HasCompetator</th>\n",
       "    </tr>\n",
       "    <tr>\n",
       "      <th>Date</th>\n",
       "      <th></th>\n",
       "      <th></th>\n",
       "      <th></th>\n",
       "      <th></th>\n",
       "      <th></th>\n",
       "      <th></th>\n",
       "      <th></th>\n",
       "      <th></th>\n",
       "      <th></th>\n",
       "      <th></th>\n",
       "      <th></th>\n",
       "      <th></th>\n",
       "      <th></th>\n",
       "      <th></th>\n",
       "    </tr>\n",
       "  </thead>\n",
       "  <tbody>\n",
       "    <tr>\n",
       "      <th>2015-07-31</th>\n",
       "      <td>1</td>\n",
       "      <td>5</td>\n",
       "      <td>5263.0</td>\n",
       "      <td>555.0</td>\n",
       "      <td>1</td>\n",
       "      <td>1</td>\n",
       "      <td>1</td>\n",
       "      <td>1270.0</td>\n",
       "      <td>0</td>\n",
       "      <td>2015</td>\n",
       "      <td>7</td>\n",
       "      <td>31</td>\n",
       "      <td>1</td>\n",
       "      <td>1.0</td>\n",
       "    </tr>\n",
       "    <tr>\n",
       "      <th>2015-07-31</th>\n",
       "      <td>2</td>\n",
       "      <td>5</td>\n",
       "      <td>6064.0</td>\n",
       "      <td>625.0</td>\n",
       "      <td>1</td>\n",
       "      <td>1</td>\n",
       "      <td>1</td>\n",
       "      <td>570.0</td>\n",
       "      <td>1</td>\n",
       "      <td>2015</td>\n",
       "      <td>7</td>\n",
       "      <td>31</td>\n",
       "      <td>1</td>\n",
       "      <td>1.0</td>\n",
       "    </tr>\n",
       "    <tr>\n",
       "      <th>2015-07-31</th>\n",
       "      <td>3</td>\n",
       "      <td>5</td>\n",
       "      <td>8314.0</td>\n",
       "      <td>821.0</td>\n",
       "      <td>1</td>\n",
       "      <td>1</td>\n",
       "      <td>1</td>\n",
       "      <td>14130.0</td>\n",
       "      <td>1</td>\n",
       "      <td>2015</td>\n",
       "      <td>7</td>\n",
       "      <td>31</td>\n",
       "      <td>1</td>\n",
       "      <td>1.0</td>\n",
       "    </tr>\n",
       "    <tr>\n",
       "      <th>2015-07-31</th>\n",
       "      <td>4</td>\n",
       "      <td>5</td>\n",
       "      <td>13995.0</td>\n",
       "      <td>596.0</td>\n",
       "      <td>1</td>\n",
       "      <td>1</td>\n",
       "      <td>1</td>\n",
       "      <td>620.0</td>\n",
       "      <td>0</td>\n",
       "      <td>2015</td>\n",
       "      <td>7</td>\n",
       "      <td>31</td>\n",
       "      <td>1</td>\n",
       "      <td>1.0</td>\n",
       "    </tr>\n",
       "    <tr>\n",
       "      <th>2015-07-31</th>\n",
       "      <td>5</td>\n",
       "      <td>5</td>\n",
       "      <td>4822.0</td>\n",
       "      <td>559.0</td>\n",
       "      <td>1</td>\n",
       "      <td>1</td>\n",
       "      <td>1</td>\n",
       "      <td>29910.0</td>\n",
       "      <td>0</td>\n",
       "      <td>2015</td>\n",
       "      <td>7</td>\n",
       "      <td>31</td>\n",
       "      <td>1</td>\n",
       "      <td>1.0</td>\n",
       "    </tr>\n",
       "  </tbody>\n",
       "</table>\n",
       "</div>"
      ],
      "text/plain": [
       "            Store  DayOfWeek    Sales  Customers  Open  Promo  SchoolHoliday  \\\n",
       "Date                                                                           \n",
       "2015-07-31      1          5   5263.0      555.0     1      1              1   \n",
       "2015-07-31      2          5   6064.0      625.0     1      1              1   \n",
       "2015-07-31      3          5   8314.0      821.0     1      1              1   \n",
       "2015-07-31      4          5  13995.0      596.0     1      1              1   \n",
       "2015-07-31      5          5   4822.0      559.0     1      1              1   \n",
       "\n",
       "            CompetitionDistance  Promo2  Year  Month  DayOfMonth  Weekday  \\\n",
       "Date                                                                        \n",
       "2015-07-31               1270.0       0  2015      7          31        1   \n",
       "2015-07-31                570.0       1  2015      7          31        1   \n",
       "2015-07-31              14130.0       1  2015      7          31        1   \n",
       "2015-07-31                620.0       0  2015      7          31        1   \n",
       "2015-07-31              29910.0       0  2015      7          31        1   \n",
       "\n",
       "            HasCompetator  \n",
       "Date                       \n",
       "2015-07-31            1.0  \n",
       "2015-07-31            1.0  \n",
       "2015-07-31            1.0  \n",
       "2015-07-31            1.0  \n",
       "2015-07-31            1.0  "
      ]
     },
     "execution_count": 7,
     "metadata": {},
     "output_type": "execute_result"
    }
   ],
   "source": [
    "# Lets see the catagorical and numerical columns and list out all the numerical columns\n",
    "\n",
    "categorical_col, numerical_col = DT.sep_cat_num(train)\n",
    "numerical_col.head()"
   ]
  },
  {
   "cell_type": "code",
   "execution_count": 8,
   "metadata": {},
   "outputs": [
    {
     "data": {
      "image/png": "[encoded data removed]",
      "text/plain": [
       "<Figure size 288x576 with 2 Axes>"
      ]
     },
     "metadata": {
      "needs_background": "light"
     },
     "output_type": "display_data"
    },
    {
     "data": {
      "text/plain": [
       "<Figure size 432x288 with 0 Axes>"
      ]
     },
     "metadata": {},
     "output_type": "display_data"
    }
   ],
   "source": [
    "# Lets check the most correlated columns and see the heatmap\n",
    "\n",
    "plt.figure(figsize=(4, 8))\n",
    "sns.heatmap(numerical_col.corr().loc['Sales',:].to_frame(), annot=True)\n",
    "plt.show()\n",
    "plt.savefig('../charts/sales_vs_all_corr.jpg')\n",
    "\n",
    "log_artifacts(\"../charts\")"
   ]
  },
  {
   "cell_type": "markdown",
   "metadata": {},
   "source": [
    "#### From the above correlation graph we can see that Weekday, Promo, Open, Customer and DaysOfWeek column has greater impact on sales. So we can take only these columns for our analysis"
   ]
  },
  {
   "cell_type": "code",
   "execution_count": 9,
   "metadata": {},
   "outputs": [
    {
     "data": {
      "text/html": [
       "<div>\n",
       "<style scoped>\n",
       "    .dataframe tbody tr th:only-of-type {\n",
       "        vertical-align: middle;\n",
       "    }\n",
       "\n",
       "    .dataframe tbody tr th {\n",
       "        vertical-align: top;\n",
       "    }\n",
       "\n",
       "    .dataframe thead th {\n",
       "        text-align: right;\n",
       "    }\n",
       "</style>\n",
       "<table border=\"1\" class=\"dataframe\">\n",
       "  <thead>\n",
       "    <tr style=\"text-align: right;\">\n",
       "      <th></th>\n",
       "      <th>Sales</th>\n",
       "      <th>DayOfWeek</th>\n",
       "      <th>Customers</th>\n",
       "      <th>Open</th>\n",
       "      <th>StoreType</th>\n",
       "      <th>StateHoliday</th>\n",
       "      <th>Assortment</th>\n",
       "    </tr>\n",
       "    <tr>\n",
       "      <th>Date</th>\n",
       "      <th></th>\n",
       "      <th></th>\n",
       "      <th></th>\n",
       "      <th></th>\n",
       "      <th></th>\n",
       "      <th></th>\n",
       "      <th></th>\n",
       "    </tr>\n",
       "  </thead>\n",
       "  <tbody>\n",
       "    <tr>\n",
       "      <th>2015-07-31</th>\n",
       "      <td>5263.0</td>\n",
       "      <td>5</td>\n",
       "      <td>555.0</td>\n",
       "      <td>1</td>\n",
       "      <td>c</td>\n",
       "      <td>No Holiday</td>\n",
       "      <td>a</td>\n",
       "    </tr>\n",
       "    <tr>\n",
       "      <th>2015-07-31</th>\n",
       "      <td>6064.0</td>\n",
       "      <td>5</td>\n",
       "      <td>625.0</td>\n",
       "      <td>1</td>\n",
       "      <td>a</td>\n",
       "      <td>No Holiday</td>\n",
       "      <td>a</td>\n",
       "    </tr>\n",
       "    <tr>\n",
       "      <th>2015-07-31</th>\n",
       "      <td>8314.0</td>\n",
       "      <td>5</td>\n",
       "      <td>821.0</td>\n",
       "      <td>1</td>\n",
       "      <td>a</td>\n",
       "      <td>No Holiday</td>\n",
       "      <td>a</td>\n",
       "    </tr>\n",
       "    <tr>\n",
       "      <th>2015-07-31</th>\n",
       "      <td>13995.0</td>\n",
       "      <td>5</td>\n",
       "      <td>596.0</td>\n",
       "      <td>1</td>\n",
       "      <td>c</td>\n",
       "      <td>No Holiday</td>\n",
       "      <td>c</td>\n",
       "    </tr>\n",
       "    <tr>\n",
       "      <th>2015-07-31</th>\n",
       "      <td>4822.0</td>\n",
       "      <td>5</td>\n",
       "      <td>559.0</td>\n",
       "      <td>1</td>\n",
       "      <td>a</td>\n",
       "      <td>No Holiday</td>\n",
       "      <td>a</td>\n",
       "    </tr>\n",
       "  </tbody>\n",
       "</table>\n",
       "</div>"
      ],
      "text/plain": [
       "              Sales  DayOfWeek  Customers  Open StoreType StateHoliday  \\\n",
       "Date                                                                     \n",
       "2015-07-31   5263.0          5      555.0     1         c   No Holiday   \n",
       "2015-07-31   6064.0          5      625.0     1         a   No Holiday   \n",
       "2015-07-31   8314.0          5      821.0     1         a   No Holiday   \n",
       "2015-07-31  13995.0          5      596.0     1         c   No Holiday   \n",
       "2015-07-31   4822.0          5      559.0     1         a   No Holiday   \n",
       "\n",
       "           Assortment  \n",
       "Date                   \n",
       "2015-07-31          a  \n",
       "2015-07-31          a  \n",
       "2015-07-31          a  \n",
       "2015-07-31          c  \n",
       "2015-07-31          a  "
      ]
     },
     "execution_count": 9,
     "metadata": {},
     "output_type": "execute_result"
    }
   ],
   "source": [
    "# Sampling the data by the above infered correlation and taking into consideration the effect of store type and state holidays\n",
    "\n",
    "useful_columns = ['Sales','DayOfWeek','Customers','Open','StoreType','StateHoliday','Assortment']\n",
    "sampled_df = train[useful_columns]\n",
    "sampled_df.head()"
   ]
  },
  {
   "cell_type": "code",
   "execution_count": 10,
   "metadata": {},
   "outputs": [
    {
     "data": {
      "text/plain": [
       "'Sales'"
      ]
     },
     "execution_count": 10,
     "metadata": {},
     "output_type": "execute_result"
    }
   ],
   "source": [
    "# Lets find out on which column is sales found and create a list of catagorical columns\n",
    "\n",
    "categorical_column_list = categorical_col.columns.to_list()\n",
    "train.columns.tolist()[2] # It is the 3rd column"
   ]
  },
  {
   "cell_type": "code",
   "execution_count": 11,
   "metadata": {},
   "outputs": [],
   "source": [
    "# Creating our pipe line\n",
    "\n",
    "pipe = Pipeline(steps = [\n",
    "                        (\"labeling\", FunctionTransformer(DT.cat_labeler, kw_args={\"cat_cols\": categorical_column_list})),\n",
    "                        (\"scaling\", FunctionTransformer(DT.scaler)), \n",
    "                        (\"target\", FunctionTransformer(DT.target_feature, kw_args={\"t\":2})),\n",
    "                        (\"split\", FunctionTransformer(DT.set_splitter, kw_args={\"test\": 0.1, \"val\":0.2, \"rand_state\":15}))\n",
    "                        ])\n",
    "\n",
    "log_param(\"Catagorical_column_list\",categorical_column_list)\n",
    "log_param(\"Test_split_percentage\",0.1)\n",
    "log_param(\"Validation_split\",0.2)\n",
    "log_param(\"Random_state\",15)\n"
   ]
  },
  {
   "cell_type": "code",
   "execution_count": 12,
   "metadata": {},
   "outputs": [
    {
     "name": "stdout",
     "output_type": "stream",
     "text": [
      "catagories successfully labeled\n",
      "Data successfully scaled\n",
      "target and features separated\n",
      "data successfully splitted\n"
     ]
    }
   ],
   "source": [
    "# For simplicity and effectiveness let take some samples 300K from the 1M \n",
    "\n",
    "sampled_train = train.sample(n=100000)\n",
    "sets = pipe.fit_transform(sampled_train)"
   ]
  },
  {
   "cell_type": "code",
   "execution_count": 15,
   "metadata": {},
   "outputs": [
    {
     "data": {
      "text/plain": [
       "ModelInfo(artifact_path='model', flavors={'python_function': {'model_path': 'model.pkl', 'loader_module': 'mlflow.sklearn', 'python_version': '3.9.12', 'env': 'conda.yaml'}, 'sklearn': {'pickled_model': 'model.pkl', 'sklearn_version': '1.1.1', 'serialization_format': 'cloudpickle', 'code': None}}, model_uri='runs:/b38d980ed68c436f8a8dcd699ab376ae/model', model_uuid='1621e7fd18034aaa82de9ebdf5273d51', run_id='b38d980ed68c436f8a8dcd699ab376ae', saved_input_example_info=None, signature_dict=None, utc_time_created='2022-05-27 14:49:03.327918', mlflow_version='1.26.0')"
      ]
     },
     "execution_count": 15,
     "metadata": {},
     "output_type": "execute_result"
    }
   ],
   "source": [
    "# Fitting the data with random forest regression and load the ml model to the mlflow\n",
    "\n",
    "regressor = RandomForestRegressor(n_estimators = 10, random_state = 15)\n",
    "regressor.fit(sets[0], sets[1])\n",
    "\n",
    "log_param(\"n_estimators\",10)\n",
    "log_param(\"random_state\",15)\n",
    "mlflow.sklearn.log_model(regressor, \"model\")"
   ]
  },
  {
   "cell_type": "markdown",
   "metadata": {},
   "source": [
    "###### Loss function is at its core, measure of how good your prediction model does in terms of being able to predict the expected outcome(or value). We convert the learning problem into an optimization problem, define a loss function and then optimize the algorithm to minimize the loss function. Since we have normalized data with no outliers I prefer to use MSE as it gives more emphasis to errors that will make the prediction more reliable "
   ]
  },
  {
   "cell_type": "code",
   "execution_count": 16,
   "metadata": {},
   "outputs": [
    {
     "data": {
      "text/plain": [
       "0.9265982634863558"
      ]
     },
     "execution_count": 16,
     "metadata": {},
     "output_type": "execute_result"
    }
   ],
   "source": [
    "# Calculating the accuracy of our model\n",
    "\n",
    "score = regressor.score(sets[2], sets[3])\n",
    "log_metric(\"Accuracy\",score)\n",
    "score"
   ]
  },
  {
   "cell_type": "code",
   "execution_count": 17,
   "metadata": {},
   "outputs": [
    {
     "data": {
      "image/png": "[encoded data removed]",
      "text/plain": [
       "<Figure size 864x576 with 1 Axes>"
      ]
     },
     "metadata": {
      "needs_background": "light"
     },
     "output_type": "display_data"
    }
   ],
   "source": [
    "# Creating a feature list and finding out the feature importance\n",
    "\n",
    "features = train.columns.to_list()\n",
    "features.remove('Sales')\n",
    "plt.figure(figsize=(12,8))\n",
    "plt.barh(features, regressor.feature_importances_)\n",
    "plt.savefig('../charts/rf_feature_imp.jpg')"
   ]
  },
  {
   "cell_type": "code",
   "execution_count": 18,
   "metadata": {},
   "outputs": [
    {
     "name": "stdout",
     "output_type": "stream",
     "text": [
      "The maximum importance value is customer with importance value of: 0.8282293440391775\n"
     ]
    }
   ],
   "source": [
    "# Finding out the feature importance of customer\n",
    "\n",
    "print(f'The maximum importance value is customer with importance value of: {max(regressor.feature_importances_)}')"
   ]
  },
  {
   "cell_type": "code",
   "execution_count": 19,
   "metadata": {},
   "outputs": [
    {
     "data": {
      "text/plain": [
       "'2022-05-27-17-51-09'"
      ]
     },
     "execution_count": 19,
     "metadata": {},
     "output_type": "execute_result"
    }
   ],
   "source": [
    "# Finding out the current date and time for our serialization naming\n",
    "\n",
    "now = datetime.now()\n",
    "formated_date = now.strftime(\"%Y-%m-%d-%H-%M-%S\")\n",
    "formated_date"
   ]
  },
  {
   "cell_type": "code",
   "execution_count": 20,
   "metadata": {},
   "outputs": [
    {
     "data": {
      "text/plain": [
       "'../models/2022-05-27-17-51-09.pkl'"
      ]
     },
     "execution_count": 20,
     "metadata": {},
     "output_type": "execute_result"
    }
   ],
   "source": [
    "# Creating a file name using the formated time\n",
    "\n",
    "file_path = \"../models/\"+str(formated_date)+'.pkl'\n",
    "file_path"
   ]
  },
  {
   "cell_type": "code",
   "execution_count": 21,
   "metadata": {},
   "outputs": [],
   "source": [
    "# Serializing or dumping using pkl loader\n",
    "\n",
    "pickle.dump(regressor,open(file_path,'wb'))"
   ]
  },
  {
   "cell_type": "code",
   "execution_count": 22,
   "metadata": {},
   "outputs": [
    {
     "name": "stdout",
     "output_type": "stream",
     "text": [
      "The accuracy of the model saved is: 0.9240010494502643\n"
     ]
    }
   ],
   "source": [
    "# Lets read from our pickle serialized model and predict by using our validation data set\n",
    "\n",
    "model = pickle.load(open(file_path,'rb')) # Opening the pkl file and passing rb( read binary) to read it\n",
    "score = model.score(sets[4],sets[5])\n",
    "print(f'The accuracy of the model saved is: {score}')"
   ]
  }
 ],
 "metadata": {
  "interpreter": {
   "hash": "d6f8b5314fcad74b5cea59779b57d0410b1657d926ed740031cc86c5ef67808c"
  },
  "kernelspec": {
   "display_name": "Python 3.9.12 ('base')",
   "language": "python",
   "name": "python3"
  },
  "language_info": {
   "codemirror_mode": {
    "name": "ipython",
    "version": 3
   },
   "file_extension": ".py",
   "mimetype": "text/x-python",
   "name": "python",
   "nbconvert_exporter": "python",
   "pygments_lexer": "ipython3",
   "version": "3.9.12"
  },
  "orig_nbformat": 4
 },
 "nbformat": 4,
 "nbformat_minor": 2
}
